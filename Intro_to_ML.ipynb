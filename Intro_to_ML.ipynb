{
 "cells": [
  {
   "cell_type": "markdown",
   "metadata": {},
   "source": [
    "# Introduction to Machine Learning"
   ]
  },
  {
   "cell_type": "raw",
   "metadata": {},
   "source": [
    "Scikit-learn\n",
    "\n",
    "เป็นไลบรารีสำหรับงาน ML ที่มีฟังก์ชันค่อนข้างครอบคลุม\n",
    "วิธีใช้ เมื่อต้องการโมดูลตัวใด ก็ให้ import ตัวนั้นเข้ามาใช้งาน \n",
    "เช่น ต้องการใช้งาน Linear Regression ก็ import ตัวที่ต้องการ\n",
    "\n",
    "from sklearn.linear_model import LinearRegression"
   ]
  },
  {
   "cell_type": "code",
   "execution_count": 1,
   "metadata": {},
   "outputs": [],
   "source": [
    "#ตัวอย่างการเขียน Model\n",
    "\n",
    "import matplotlib.pyplot as plt\n",
    "import numpy as np"
   ]
  },
  {
   "cell_type": "code",
   "execution_count": 2,
   "metadata": {},
   "outputs": [],
   "source": [
    "x_data = [1.0, 1.8, 3.0, 4.1, 5.2, 6.0]   \n",
    "y_data = [1,1.3,2.2,2.5,2.8,3.6]\n",
    "\n",
    "x = np.array(x_data)    #ทำให้เป็น Numpy Array\n",
    "y = np.array(y_data)"
   ]
  },
  {
   "cell_type": "code",
   "execution_count": 3,
   "metadata": {},
   "outputs": [
    {
     "data": {
      "text/plain": [
       "array([1. , 1.8, 3. , 4.1, 5.2, 6. ])"
      ]
     },
     "execution_count": 3,
     "metadata": {},
     "output_type": "execute_result"
    }
   ],
   "source": [
    "x"
   ]
  },
  {
   "cell_type": "code",
   "execution_count": 4,
   "metadata": {},
   "outputs": [
    {
     "data": {
      "text/plain": [
       "array([1. , 1.3, 2.2, 2.5, 2.8, 3.6])"
      ]
     },
     "execution_count": 4,
     "metadata": {},
     "output_type": "execute_result"
    }
   ],
   "source": [
    "y"
   ]
  },
  {
   "cell_type": "code",
   "execution_count": 6,
   "metadata": {},
   "outputs": [
    {
     "data": {
      "image/png": "[encoded data removed]",
      "text/plain": [
       "<Figure size 432x288 with 1 Axes>"
      ]
     },
     "metadata": {
      "needs_background": "light"
     },
     "output_type": "display_data"
    }
   ],
   "source": [
    "#ตรวจสอบข้อมูลด้วยกราฟก่อนสร้าง Model เพื่อดู trend หรือ คสพ.\n",
    "\n",
    "plt.scatter(x, y)\n",
    "plt.grid()\n",
    "plt.show()\n",
    "\n",
    "#มีแนวโน้มเป็น Linear Regression (เมื่อ x สูงขึ้น y จะสูงตาม แนวโน้มเป็นเส้นตรงแม้อาจจะไม่ตรงเป๊ะ 100%)"
   ]
  },
  {
   "cell_type": "code",
   "execution_count": 7,
   "metadata": {},
   "outputs": [],
   "source": [
    "#ทำ Linear Regression\n",
    "from sklearn.linear_model import LinearRegression\n",
    "\n",
    "#ข้อมูลที่จะป้อนให้คอมพิวเตอร์เรียนรู้ เรียกว่า Data set หรือ Training set จะต้องเปลี่ยนให้เป็นรูปแบบเมทริกซ์ 1 คอลัมน์ (ตอนนี้ยังเป็น 1 แถว ไม่ใช่ 1 คอลัมน์)\n",
    "#ใช้ .reshape(-1, 1) แยกเป็น x และ y\n",
    "\n",
    "x = x.reshape(-1, 1)\n",
    "y = y.reshape(-1, 1)"
   ]
  },
  {
   "cell_type": "code",
   "execution_count": 9,
   "metadata": {},
   "outputs": [
    {
     "name": "stdout",
     "output_type": "stream",
     "text": [
      "[[1. ]\n",
      " [1.8]\n",
      " [3. ]\n",
      " [4.1]\n",
      " [5.2]\n",
      " [6. ]]\n",
      "[[1. ]\n",
      " [1.3]\n",
      " [2.2]\n",
      " [2.5]\n",
      " [2.8]\n",
      " [3.6]]\n"
     ]
    }
   ],
   "source": [
    "print(x)\n",
    "print(y)"
   ]
  },
  {
   "cell_type": "code",
   "execution_count": 11,
   "metadata": {},
   "outputs": [
    {
     "data": {
      "text/plain": [
       "LinearRegression()"
      ]
     },
     "execution_count": 11,
     "metadata": {},
     "output_type": "execute_result"
    }
   ],
   "source": [
    "#เริ่มสร้าง Model แล้วทำการป้อนข้อมูลให้คอมพิวเตอร์เรียนรู้  ขั้นตอนนี้เรียกว่า Train\n",
    "\n",
    "model = LinearRegression()      #เริ่มสร้าง Model (Instantiate)\n",
    "model.fit(x, y)                #ป้อนข้อมูล x y ให้คอมพิวเตอร์เรียนรู้แล้วสร้าง Model ให้"
   ]
  },
  {
   "cell_type": "code",
   "execution_count": 14,
   "metadata": {},
   "outputs": [
    {
     "data": {
      "text/plain": [
       "array([[1.73670696]])"
      ]
     },
     "execution_count": 14,
     "metadata": {},
     "output_type": "execute_result"
    }
   ],
   "source": [
    "#ตอนนี้เราได้ตัวแปร model ซึ่งก็คือ Model (ซึ่งเทียบเท่ากับสมการ y = mx + b)\n",
    "\n",
    "#ตัวอย่างเช่น ต้องการหาว่า เมื่อลงทุน 2.5 ล้าน (x=2.5) จะมีกำไร(y)ประมาณเท่าใด\n",
    "#ใช้ Model ที่เครื่องสร้างให้ทำการคำนวณ โดยข้อมูล input (x) จะต้องทำให้เป็น List ก่อน ด้วยการใส่วงเล็บเหลี่ยมสองชั้น [[]] เพราะ scikit-learn ต้องใส่ข้อมูลชุดไปเป็น input\n",
    "\n",
    "model.predict([[2.5]])    #คำนวณหาผลลัพธ์"
   ]
  },
  {
   "cell_type": "code",
   "execution_count": 15,
   "metadata": {},
   "outputs": [],
   "source": [
    "#ผลลัพธ์ที่ได้จะคืนค่ากลับมาเป็น Array เมทริกซ์\n",
    "\n",
    "#เมื่อลงทุน 2.5 ล้าน คาดว่าจะได้กำไร 1.736 ล้าน\n",
    "\n",
    "#ในงาน ML การคำนวณหาผลลัพธ์จะใช้คำว่า Predict(ทำนาย) เพราะเป็นค่าที่ระบบคำนวณแล้วคาดการณ์ให้"
   ]
  },
  {
   "cell_type": "code",
   "execution_count": 17,
   "metadata": {},
   "outputs": [
    {
     "data": {
      "text/plain": [
       "array([[1.49246448],\n",
       "       [1.73670696],\n",
       "       [1.98094944],\n",
       "       [2.95791935]])"
      ]
     },
     "execution_count": 17,
     "metadata": {},
     "output_type": "execute_result"
    }
   ],
   "source": [
    "#กรณีต้องการคำนวณหรือทำนายหลายค่า ให้กำหนดค่า x_input เป็น List คอลัมน์เดียวแบบเมทริกซ์ แล้วใช้ .predict \n",
    "\n",
    "x_input = [[2.0],\n",
    "          [2.5],\n",
    "          [3],\n",
    "          [5.0]]\n",
    "y_predict = model.predict(x_input)\n",
    "y_predict\n",
    "\n",
    "#จะได้ค่าเป็น array ตามจำนวน Input ที่ให้ทำนาย"
   ]
  },
  {
   "cell_type": "code",
   "execution_count": 21,
   "metadata": {},
   "outputs": [
    {
     "data": {
      "text/plain": [
       "1.492464484249537"
      ]
     },
     "execution_count": 21,
     "metadata": {},
     "output_type": "execute_result"
    }
   ],
   "source": [
    "#กรณีต้องการค่าเดี่ยว ให้ระบุตำแหน่ง index\n",
    "y_predict[0][0]"
   ]
  },
  {
   "cell_type": "code",
   "execution_count": 20,
   "metadata": {},
   "outputs": [
    {
     "data": {
      "text/plain": [
       "2.9579193505691346"
      ]
     },
     "execution_count": 20,
     "metadata": {},
     "output_type": "execute_result"
    }
   ],
   "source": [
    "y_predict[3][0]"
   ]
  },
  {
   "cell_type": "code",
   "execution_count": 22,
   "metadata": {},
   "outputs": [
    {
     "data": {
      "text/plain": [
       "array([[1.49246448],\n",
       "       [1.73670696],\n",
       "       [1.98094944],\n",
       "       [2.95791935]])"
      ]
     },
     "execution_count": 22,
     "metadata": {},
     "output_type": "execute_result"
    }
   ],
   "source": [
    "#การกำหนด x_input เมื่อมีหลายค่า อาจจะพิมพ์ยาก สามารถกำหนดเป็น list ก่อน แล้วใช้ .reshape ได้ \n",
    "x_input = [2.0,2.5,3,5.0]\n",
    "x_input = np.array(x_input).reshape(-1, 1)     #np.array(ตัวแปร).reshape(-1, 1)\n",
    "y_predict = model.predict(x_input)\n",
    "y_predict\n",
    "\n",
    "#ผลลัพธ์เหมือนกัน"
   ]
  },
  {
   "cell_type": "code",
   "execution_count": 24,
   "metadata": {},
   "outputs": [
    {
     "name": "stdout",
     "output_type": "stream",
     "text": [
      "x=2.0 y=1.49246 \n",
      "x=2.5 y=1.73671 \n",
      "x=3.0 y=1.98095 \n",
      "x=5.0 y=2.95792 \n"
     ]
    }
   ],
   "source": [
    "#ตัวอย่างโค้ด วนรอบอ่านค่าแต่ละรายการมาแสดงผล ให้ดูสรุปง่ายขึ้น \n",
    "\n",
    "y2_predict = y_predict.reshape(1, -1) \n",
    "x_input_list = x_input\n",
    "\n",
    "for i, item in enumerate(x_input_list):\n",
    "    print('x={} y={:.5f} '.format(item[0], y2_predict[0][i]))"
   ]
  },
  {
   "cell_type": "code",
   "execution_count": 25,
   "metadata": {},
   "outputs": [
    {
     "data": {
      "image/png": "[encoded data removed]",
      "text/plain": [
       "<Figure size 432x288 with 1 Axes>"
      ]
     },
     "metadata": {
      "needs_background": "light"
     },
     "output_type": "display_data"
    }
   ],
   "source": [
    "#ดูเส้นจากสมการ Model\n",
    "\n",
    "prd = model.predict(x)            #หาค่า y (ทำนาย y) ทุกจุดที่ x เป็น Input\n",
    "\n",
    "plt.grid()                        #แสดงเส้นกริดตาราง\n",
    "plt.scatter(x, y, color='b')      #พล็อตจุด Data ของจริง กำหนดเป็นสีน้ำเงิน\n",
    "plt.plot(x, prd, linewidth='1')   #พล็อตเส้นตรงที่เครื่องสร้าง Model ให้\n",
    "\n",
    "#พล็อตจุดที่เครื่องทำนายให้ (s=จุดสี่เหลี่ยม square, (r=red))\n",
    "plt.scatter(x, prd, color='r', marker='s')\n",
    "plt.show()\n",
    "\n",
    "#จุดสี่เหลี่ยมแดง คือจุดที่ได้จากการทำนาย (ได้จากการคำนวณ ทำนาย หรือ Predict โดยป้อนค่า x เป็น input เข้าไปทำนาย)"
   ]
  },
  {
   "cell_type": "code",
   "execution_count": 26,
   "metadata": {},
   "outputs": [
    {
     "data": {
      "text/plain": [
       "array([[0.48848496]])"
      ]
     },
     "execution_count": 26,
     "metadata": {},
     "output_type": "execute_result"
    }
   ],
   "source": [
    "#ต้องการดูค่า m(slope) และ b(ค่าจุดตัด)\n",
    "model.coef_       #ค่า slope"
   ]
  },
  {
   "cell_type": "code",
   "execution_count": 27,
   "metadata": {},
   "outputs": [
    {
     "data": {
      "text/plain": [
       "array([0.51549457])"
      ]
     },
     "execution_count": 27,
     "metadata": {},
     "output_type": "execute_result"
    }
   ],
   "source": [
    "model.intercept_  #ค่าจุดตัดของสมการเส้นตรง"
   ]
  },
  {
   "cell_type": "code",
   "execution_count": 33,
   "metadata": {},
   "outputs": [
    {
     "data": {
      "text/plain": [
       "['my_model.pkl']"
      ]
     },
     "execution_count": 33,
     "metadata": {},
     "output_type": "execute_result"
    }
   ],
   "source": [
    "#การบันทึกและเรียกใช้งาน Model\n",
    "\n",
    "#ปกติแล้ว กระบวนการ Train จะทำครั้งเดียว พอได้ Model ที่เหมาะสมแล้ว(ทดสอบประเมินประสิทธิภาพแล้ว) ก็ทำการเก็บไว้ใช้งาน (ไม่ต้องสร้างใหม่ทุกครั้ง)\n",
    "\n",
    "#วิธีการเก็บ หมายถึงบันทึกเก็บเป็นไฟล์ข้อมูล สามารถทำได้หลายวิธี สำหรับในที่นี้จะกล่าวถึงการเก็บด้วย pickle โดยใช้ไลบรารี joblib \n",
    "\n",
    "import sklearn.externals as extjoblib\n",
    "import joblib\n",
    "\n",
    "#บันทึก Model เป็นไฟล์ชื่อ my_model.pkl\n",
    "#model คือตัวแปรเก็บค่า Model ที่ได้จาก .fit() ซึ่งก็คือที่ได้จากขั้นตอนการ Train\n",
    "joblib.dump(model, 'my_model.pkl')"
   ]
  },
  {
   "cell_type": "code",
   "execution_count": 37,
   "metadata": {},
   "outputs": [],
   "source": [
    "#การนำ Model มาใช้งานในโปรแกรม\n",
    "\n",
    "import sklearn.externals as extjoblib\n",
    "import joblib\n",
    "import numpy as np\n",
    "\n",
    "model = joblib.load('my_model.pkl')"
   ]
  },
  {
   "cell_type": "code",
   "execution_count": 38,
   "metadata": {},
   "outputs": [
    {
     "data": {
      "text/plain": [
       "array([[1.49246448],\n",
       "       [1.73670696],\n",
       "       [1.98094944],\n",
       "       [2.95791935],\n",
       "       [3.20216183]])"
      ]
     },
     "execution_count": 38,
     "metadata": {},
     "output_type": "execute_result"
    }
   ],
   "source": [
    "#สมมติว่า input มีดังนี้\n",
    "\n",
    "x_input = [2.0,2.5,3,5.0,5.5]\n",
    "x_input = np.array(x_input).reshape(-1, 1)\n",
    "\n",
    "y_predict = model.predict(x_input)\n",
    "y_predict"
   ]
  },
  {
   "cell_type": "code",
   "execution_count": null,
   "metadata": {},
   "outputs": [],
   "source": []
  }
 ],
 "metadata": {
  "kernelspec": {
   "display_name": "Python 3",
   "language": "python",
   "name": "python3"
  },
  "language_info": {
   "codemirror_mode": {
    "name": "ipython",
    "version": 3
   },
   "file_extension": ".py",
   "mimetype": "text/x-python",
   "name": "python",
   "nbconvert_exporter": "python",
   "pygments_lexer": "ipython3",
   "version": "3.8.5"
  }
 },
 "nbformat": 4,
 "nbformat_minor": 4
}
